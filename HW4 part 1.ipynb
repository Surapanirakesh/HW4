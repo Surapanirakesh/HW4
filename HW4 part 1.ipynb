{
 "cells": [
  {
   "cell_type": "code",
   "execution_count": 276,
   "metadata": {},
   "outputs": [],
   "source": [
    "import numpy as np\n",
    "import pandas as pd\n",
    "import matplotlib.pyplot as plt\n",
    "import seaborn as sns\n",
    "from sklearn.cluster import KMeans "
   ]
  },
  {
   "cell_type": "code",
   "execution_count": 277,
   "metadata": {},
   "outputs": [],
   "source": [
    "X = [3, 3, 2, 2, 6, 6, 7, 7, 8, 7]\n",
    "Y = [5, 4, 8, 3, 2, 4, 3, 4, 5, 6]\n",
    "dict = {\"X\" : X, \"Y\" : Y}"
   ]
  },
  {
   "cell_type": "code",
   "execution_count": 278,
   "metadata": {},
   "outputs": [],
   "source": [
    "df = pd.DataFrame(dict)"
   ]
  },
  {
   "cell_type": "code",
   "execution_count": 279,
   "metadata": {},
   "outputs": [
    {
     "data": {
      "text/html": [
       "<div>\n",
       "<style scoped>\n",
       "    .dataframe tbody tr th:only-of-type {\n",
       "        vertical-align: middle;\n",
       "    }\n",
       "\n",
       "    .dataframe tbody tr th {\n",
       "        vertical-align: top;\n",
       "    }\n",
       "\n",
       "    .dataframe thead th {\n",
       "        text-align: right;\n",
       "    }\n",
       "</style>\n",
       "<table border=\"1\" class=\"dataframe\">\n",
       "  <thead>\n",
       "    <tr style=\"text-align: right;\">\n",
       "      <th></th>\n",
       "      <th>X</th>\n",
       "      <th>Y</th>\n",
       "    </tr>\n",
       "  </thead>\n",
       "  <tbody>\n",
       "    <tr>\n",
       "      <th>0</th>\n",
       "      <td>3</td>\n",
       "      <td>5</td>\n",
       "    </tr>\n",
       "    <tr>\n",
       "      <th>1</th>\n",
       "      <td>3</td>\n",
       "      <td>4</td>\n",
       "    </tr>\n",
       "    <tr>\n",
       "      <th>2</th>\n",
       "      <td>2</td>\n",
       "      <td>8</td>\n",
       "    </tr>\n",
       "    <tr>\n",
       "      <th>3</th>\n",
       "      <td>2</td>\n",
       "      <td>3</td>\n",
       "    </tr>\n",
       "    <tr>\n",
       "      <th>4</th>\n",
       "      <td>6</td>\n",
       "      <td>2</td>\n",
       "    </tr>\n",
       "    <tr>\n",
       "      <th>5</th>\n",
       "      <td>6</td>\n",
       "      <td>4</td>\n",
       "    </tr>\n",
       "    <tr>\n",
       "      <th>6</th>\n",
       "      <td>7</td>\n",
       "      <td>3</td>\n",
       "    </tr>\n",
       "    <tr>\n",
       "      <th>7</th>\n",
       "      <td>7</td>\n",
       "      <td>4</td>\n",
       "    </tr>\n",
       "    <tr>\n",
       "      <th>8</th>\n",
       "      <td>8</td>\n",
       "      <td>5</td>\n",
       "    </tr>\n",
       "    <tr>\n",
       "      <th>9</th>\n",
       "      <td>7</td>\n",
       "      <td>6</td>\n",
       "    </tr>\n",
       "  </tbody>\n",
       "</table>\n",
       "</div>"
      ],
      "text/plain": [
       "   X  Y\n",
       "0  3  5\n",
       "1  3  4\n",
       "2  2  8\n",
       "3  2  3\n",
       "4  6  2\n",
       "5  6  4\n",
       "6  7  3\n",
       "7  7  4\n",
       "8  8  5\n",
       "9  7  6"
      ]
     },
     "execution_count": 279,
     "metadata": {},
     "output_type": "execute_result"
    }
   ],
   "source": [
    "df"
   ]
  },
  {
   "cell_type": "code",
   "execution_count": 280,
   "metadata": {},
   "outputs": [],
   "source": [
    "K = 2\n",
    "centroid = {\n",
    "    1:[4,6],\n",
    "    2:[5,4]\n",
    "    \n",
    "}"
   ]
  },
  {
   "cell_type": "code",
   "execution_count": 281,
   "metadata": {},
   "outputs": [
    {
     "data": {
      "text/plain": [
       "{1: [4, 6], 2: [5, 4]}"
      ]
     },
     "execution_count": 281,
     "metadata": {},
     "output_type": "execute_result"
    }
   ],
   "source": [
    "centroid"
   ]
  },
  {
   "cell_type": "code",
   "execution_count": 282,
   "metadata": {},
   "outputs": [],
   "source": [
    "def centroiddistance(df, centroids, dist_cals_type):\n",
    "    distance = 0\n",
    "    if( dist_cals_type == \"Manhattan\"):\n",
    "        for i in centroids.keys():\n",
    "            df['distance_from_{}'.format(i)] =(\n",
    "                abs(df['X'] - centroids[i][0])\n",
    "                + abs(df['Y'] - centroids[i][1])\n",
    "            )\n",
    "            \n",
    "        \n",
    "    else:\n",
    "        for i in centroids.keys():\n",
    "            df['distance_from_{}'.format(i)] = (\n",
    "                np.sqrt(\n",
    "                    (df['X'] - centroids[i][0]) ** 2\n",
    "                    + (df['Y'] - centroids[i][1]) ** 2\n",
    "                )\n",
    "            )\n",
    "        \n",
    "    centroids_dist = ['distance_from_{}'.format(i) for i in centroids.keys()]\n",
    "    df['NearbyCentroid'] = df.loc[:, centroids_dist].idxmin(axis=1)\n",
    "    df['NearbyCentroid'] = df['NearbyCentroid'].map(lambda x: int(x.lstrip('distance_from_')))\n",
    "    df['color'] = df['NearbyCentroid'].map(lambda x: colmap[x])\n",
    "        \n",
    "    return df"
   ]
  },
  {
   "cell_type": "code",
   "execution_count": 283,
   "metadata": {},
   "outputs": [],
   "source": [
    "import copy\n",
    "old_centroids = copy.deepcopy(centroid)\n",
    "\n",
    "def centroidupdate(df_updated):\n",
    "    ncentroid = {\n",
    "    1:[0,0],\n",
    "    2:[0,0]\n",
    "    }\n",
    "    for i in ncentroid.keys():\n",
    "        print(df_updated[df_updated['NearbyCentroid'] == i])\n",
    "        ncentroid[i][0] = np.mean(df_updated[df_updated['NearbyCentroid'] == i]['X'])\n",
    "        ncentroid[i][1] = np.mean(df_updated[df_updated['NearbyCentroid'] == i]['Y'])\n",
    "    return ncentroid\n",
    "def centroidmatch(old, new):\n",
    "    match = 0;\n",
    "    for i in old.keys():\n",
    "        if ((old[i][0] == new[i][0]) & (old[i][1] == new[i][1])):\n",
    "            \n",
    "            match = 1;\n",
    "        else:\n",
    "            match = 0;\n",
    "    return match\n",
    "def KmeansAlgorithm(centroid, df, dist_type): \n",
    "    fig = plt.figure(figsize=(5, 5))\n",
    "    plt.scatter( df['X'], df['Y'], color='k')\n",
    "    colmap = {1: 'r', 2: 'b'}\n",
    "    for i in centroid.keys():\n",
    "        plt.scatter(*centroid[i], color=colmap[i])\n",
    "    plt.xlim(0, 9)\n",
    "    plt.ylim(0, 9)\n",
    "    plt.show()\n",
    "    count = 0\n",
    "    while True:\n",
    "        \n",
    "        #old_centroids = centroid\n",
    "        print(\"old_centroids\")\n",
    "        print(centroid)\n",
    "        df_updated = centroiddistance(df, centroid, dist_type)\n",
    "        print(df_updated)\n",
    "        fig = plt.figure(figsize=(5, 5))\n",
    "        plt.scatter(df_updated['X'], df_updated['Y'], color=df_updated['color'], edgecolor = 'k' )\n",
    "        for i in centroid.keys():\n",
    "            plt.scatter(*centroid[i], color=colmap[i])\n",
    "        plt.xlim(0, 10)\n",
    "        plt.ylim(0, 10)\n",
    "        plt.show()\n",
    "        n_centroid[count] = centroidupdate(df_updated)\n",
    "        print(\"new centroid\" + str(count))\n",
    "        print(n_centroid[count])\n",
    "        fig = plt.figure(figsize=(5, 5))\n",
    "        plt.scatter(df_updated['X'], df_updated['Y'], color=df_updated['color'], edgecolor = 'k' )\n",
    "        for i in n_centroid[count].keys():\n",
    "            plt.scatter(*n_centroid[count][i], color=colmap[i])\n",
    "        plt.xlim(0, 10)\n",
    "        plt.ylim(0, 10)\n",
    "        plt.show() \n",
    "        match = centroidmatch(centroid, n_centroid[count])\n",
    "        print(\"Match \")\n",
    "        print(match)\n",
    "        if (match == 1):\n",
    "            break;\n",
    "        else:\n",
    "            centroid = n_centroid[count]\n",
    "            count = count + 1;"
   ]
  },
  {
   "cell_type": "code",
   "execution_count": 284,
   "metadata": {},
   "outputs": [
    {
     "data": {
      "image/png": "[encoded data removed]",
      "text/plain": [
       "<Figure size 360x360 with 1 Axes>"
      ]
     },
     "metadata": {
      "needs_background": "light"
     },
     "output_type": "display_data"
    },
    {
     "name": "stdout",
     "output_type": "stream",
     "text": [
      "old_centroids\n",
      "{1: [4, 6], 2: [5, 4]}\n",
      "   X  Y  distance_from_1  distance_from_2  NearbyCentroid color\n",
      "0  3  5                2                3               1     r\n",
      "1  3  4                3                2               2     b\n",
      "2  2  8                4                7               1     r\n",
      "3  2  3                5                4               2     b\n",
      "4  6  2                6                3               2     b\n",
      "5  6  4                4                1               2     b\n",
      "6  7  3                6                3               2     b\n",
      "7  7  4                5                2               2     b\n",
      "8  8  5                5                4               2     b\n",
      "9  7  6                3                4               1     r\n"
     ]
    },
    {
     "data": {
      "image/png": "[encoded data removed]",
      "text/plain": [
       "<Figure size 360x360 with 1 Axes>"
      ]
     },
     "metadata": {
      "needs_background": "light"
     },
     "output_type": "display_data"
    },
    {
     "name": "stdout",
     "output_type": "stream",
     "text": [
      "   X  Y  distance_from_1  distance_from_2  NearbyCentroid color\n",
      "0  3  5                2                3               1     r\n",
      "2  2  8                4                7               1     r\n",
      "9  7  6                3                4               1     r\n",
      "   X  Y  distance_from_1  distance_from_2  NearbyCentroid color\n",
      "1  3  4                3                2               2     b\n",
      "3  2  3                5                4               2     b\n",
      "4  6  2                6                3               2     b\n",
      "5  6  4                4                1               2     b\n",
      "6  7  3                6                3               2     b\n",
      "7  7  4                5                2               2     b\n",
      "8  8  5                5                4               2     b\n",
      "new centroid0\n",
      "{1: [4.0, 6.333333333333333], 2: [5.571428571428571, 3.5714285714285716]}\n"
     ]
    },
    {
     "data": {
      "image/png": "[encoded data removed]",
      "text/plain": [
       "<Figure size 360x360 with 1 Axes>"
      ]
     },
     "metadata": {
      "needs_background": "light"
     },
     "output_type": "display_data"
    },
    {
     "name": "stdout",
     "output_type": "stream",
     "text": [
      "Match \n",
      "0\n",
      "old_centroids\n",
      "{1: [4.0, 6.333333333333333], 2: [5.571428571428571, 3.5714285714285716]}\n",
      "   X  Y  distance_from_1  distance_from_2  NearbyCentroid color\n",
      "0  3  5         2.333333         4.000000               1     r\n",
      "1  3  4         3.333333         3.000000               2     b\n",
      "2  2  8         3.666667         8.000000               1     r\n",
      "3  2  3         5.333333         4.142857               2     b\n",
      "4  6  2         6.333333         2.000000               2     b\n",
      "5  6  4         4.333333         0.857143               2     b\n",
      "6  7  3         6.333333         2.000000               2     b\n",
      "7  7  4         5.333333         1.857143               2     b\n",
      "8  8  5         5.333333         3.857143               2     b\n",
      "9  7  6         3.333333         3.857143               1     r\n"
     ]
    },
    {
     "data": {
      "image/png": "[encoded data removed]",
      "text/plain": [
       "<Figure size 360x360 with 1 Axes>"
      ]
     },
     "metadata": {
      "needs_background": "light"
     },
     "output_type": "display_data"
    },
    {
     "name": "stdout",
     "output_type": "stream",
     "text": [
      "   X  Y  distance_from_1  distance_from_2  NearbyCentroid color\n",
      "0  3  5         2.333333         4.000000               1     r\n",
      "2  2  8         3.666667         8.000000               1     r\n",
      "9  7  6         3.333333         3.857143               1     r\n",
      "   X  Y  distance_from_1  distance_from_2  NearbyCentroid color\n",
      "1  3  4         3.333333         3.000000               2     b\n",
      "3  2  3         5.333333         4.142857               2     b\n",
      "4  6  2         6.333333         2.000000               2     b\n",
      "5  6  4         4.333333         0.857143               2     b\n",
      "6  7  3         6.333333         2.000000               2     b\n",
      "7  7  4         5.333333         1.857143               2     b\n",
      "8  8  5         5.333333         3.857143               2     b\n",
      "new centroid1\n",
      "{1: [4.0, 6.333333333333333], 2: [5.571428571428571, 3.5714285714285716]}\n"
     ]
    },
    {
     "data": {
      "image/png": "[encoded data removed]",
      "text/plain": [
       "<Figure size 360x360 with 1 Axes>"
      ]
     },
     "metadata": {
      "needs_background": "light"
     },
     "output_type": "display_data"
    },
    {
     "name": "stdout",
     "output_type": "stream",
     "text": [
      "Match \n",
      "1\n"
     ]
    }
   ],
   "source": [
    "KmeansAlgorithm(centroid, df,'Manhattan')"
   ]
  },
  {
   "cell_type": "code",
   "execution_count": 285,
   "metadata": {},
   "outputs": [
    {
     "data": {
      "image/png": "[encoded data removed]",
      "text/plain": [
       "<Figure size 360x360 with 1 Axes>"
      ]
     },
     "metadata": {
      "needs_background": "light"
     },
     "output_type": "display_data"
    },
    {
     "name": "stdout",
     "output_type": "stream",
     "text": [
      "old_centroids\n",
      "{1: [4, 6], 2: [5, 4]}\n",
      "   X  Y  distance_from_1  distance_from_2  NearbyCentroid color\n",
      "0  3  5         1.414214         2.236068               1     r\n",
      "1  3  4         2.236068         2.000000               2     b\n",
      "2  2  8         2.828427         5.000000               1     r\n",
      "3  2  3         3.605551         3.162278               2     b\n",
      "4  6  2         4.472136         2.236068               2     b\n",
      "5  6  4         2.828427         1.000000               2     b\n",
      "6  7  3         4.242641         2.236068               2     b\n",
      "7  7  4         3.605551         2.000000               2     b\n",
      "8  8  5         4.123106         3.162278               2     b\n",
      "9  7  6         3.000000         2.828427               2     b\n"
     ]
    },
    {
     "data": {
      "image/png": "[encoded data removed]",
      "text/plain": [
       "<Figure size 360x360 with 1 Axes>"
      ]
     },
     "metadata": {
      "needs_background": "light"
     },
     "output_type": "display_data"
    },
    {
     "name": "stdout",
     "output_type": "stream",
     "text": [
      "   X  Y  distance_from_1  distance_from_2  NearbyCentroid color\n",
      "0  3  5         1.414214         2.236068               1     r\n",
      "2  2  8         2.828427         5.000000               1     r\n",
      "   X  Y  distance_from_1  distance_from_2  NearbyCentroid color\n",
      "1  3  4         2.236068         2.000000               2     b\n",
      "3  2  3         3.605551         3.162278               2     b\n",
      "4  6  2         4.472136         2.236068               2     b\n",
      "5  6  4         2.828427         1.000000               2     b\n",
      "6  7  3         4.242641         2.236068               2     b\n",
      "7  7  4         3.605551         2.000000               2     b\n",
      "8  8  5         4.123106         3.162278               2     b\n",
      "9  7  6         3.000000         2.828427               2     b\n",
      "new centroid0\n",
      "{1: [2.5, 6.5], 2: [5.75, 3.875]}\n"
     ]
    },
    {
     "data": {
      "image/png": "[encoded data removed]",
      "text/plain": [
       "<Figure size 360x360 with 1 Axes>"
      ]
     },
     "metadata": {
      "needs_background": "light"
     },
     "output_type": "display_data"
    },
    {
     "name": "stdout",
     "output_type": "stream",
     "text": [
      "Match \n",
      "0\n",
      "old_centroids\n",
      "{1: [2.5, 6.5], 2: [5.75, 3.875]}\n",
      "   X  Y  distance_from_1  distance_from_2  NearbyCentroid color\n",
      "0  3  5         1.581139         2.971216               1     r\n",
      "1  3  4         2.549510         2.752839               1     r\n",
      "2  2  8         1.581139         5.574776               1     r\n",
      "3  2  3         3.535534         3.850730               1     r\n",
      "4  6  2         5.700877         1.891593               2     b\n",
      "5  6  4         4.301163         0.279508               2     b\n",
      "6  7  3         5.700877         1.525819               2     b\n",
      "7  7  4         5.147815         1.256234               2     b\n",
      "8  8  5         5.700877         2.515576               2     b\n",
      "9  7  6         4.527693         2.465385               2     b\n"
     ]
    },
    {
     "data": {
      "image/png": "[encoded data removed]",
      "text/plain": [
       "<Figure size 360x360 with 1 Axes>"
      ]
     },
     "metadata": {
      "needs_background": "light"
     },
     "output_type": "display_data"
    },
    {
     "name": "stdout",
     "output_type": "stream",
     "text": [
      "   X  Y  distance_from_1  distance_from_2  NearbyCentroid color\n",
      "0  3  5         1.581139         2.971216               1     r\n",
      "1  3  4         2.549510         2.752839               1     r\n",
      "2  2  8         1.581139         5.574776               1     r\n",
      "3  2  3         3.535534         3.850730               1     r\n",
      "   X  Y  distance_from_1  distance_from_2  NearbyCentroid color\n",
      "4  6  2         5.700877         1.891593               2     b\n",
      "5  6  4         4.301163         0.279508               2     b\n",
      "6  7  3         5.700877         1.525819               2     b\n",
      "7  7  4         5.147815         1.256234               2     b\n",
      "8  8  5         5.700877         2.515576               2     b\n",
      "9  7  6         4.527693         2.465385               2     b\n",
      "new centroid1\n",
      "{1: [2.5, 5.0], 2: [6.833333333333333, 4.0]}\n"
     ]
    },
    {
     "data": {
      "image/png": "[encoded data removed]",
      "text/plain": [
       "<Figure size 360x360 with 1 Axes>"
      ]
     },
     "metadata": {
      "needs_background": "light"
     },
     "output_type": "display_data"
    },
    {
     "name": "stdout",
     "output_type": "stream",
     "text": [
      "Match \n",
      "0\n",
      "old_centroids\n",
      "{1: [2.5, 5.0], 2: [6.833333333333333, 4.0]}\n",
      "   X  Y  distance_from_1  distance_from_2  NearbyCentroid color\n",
      "0  3  5         0.500000         3.961621               1     r\n",
      "1  3  4         1.118034         3.833333               1     r\n",
      "2  2  8         3.041381         6.273843               1     r\n",
      "3  2  3         2.061553         4.935698               1     r\n",
      "4  6  2         4.609772         2.166667               2     b\n",
      "5  6  4         3.640055         0.833333               2     b\n",
      "6  7  3         4.924429         1.013794               2     b\n",
      "7  7  4         4.609772         0.166667               2     b\n",
      "8  8  5         5.500000         1.536591               2     b\n",
      "9  7  6         4.609772         2.006932               2     b\n"
     ]
    },
    {
     "data": {
      "image/png": "[encoded data removed]",
      "text/plain": [
       "<Figure size 360x360 with 1 Axes>"
      ]
     },
     "metadata": {
      "needs_background": "light"
     },
     "output_type": "display_data"
    },
    {
     "name": "stdout",
     "output_type": "stream",
     "text": [
      "   X  Y  distance_from_1  distance_from_2  NearbyCentroid color\n",
      "0  3  5         0.500000         3.961621               1     r\n",
      "1  3  4         1.118034         3.833333               1     r\n",
      "2  2  8         3.041381         6.273843               1     r\n",
      "3  2  3         2.061553         4.935698               1     r\n",
      "   X  Y  distance_from_1  distance_from_2  NearbyCentroid color\n",
      "4  6  2         4.609772         2.166667               2     b\n",
      "5  6  4         3.640055         0.833333               2     b\n",
      "6  7  3         4.924429         1.013794               2     b\n",
      "7  7  4         4.609772         0.166667               2     b\n",
      "8  8  5         5.500000         1.536591               2     b\n",
      "9  7  6         4.609772         2.006932               2     b\n",
      "new centroid2\n",
      "{1: [2.5, 5.0], 2: [6.833333333333333, 4.0]}\n"
     ]
    },
    {
     "data": {
      "image/png": "[encoded data removed]",
      "text/plain": [
       "<Figure size 360x360 with 1 Axes>"
      ]
     },
     "metadata": {
      "needs_background": "light"
     },
     "output_type": "display_data"
    },
    {
     "name": "stdout",
     "output_type": "stream",
     "text": [
      "Match \n",
      "1\n"
     ]
    }
   ],
   "source": [
    "KmeansAlgorithm(centroid, df,'Euclidean')"
   ]
  },
  {
   "cell_type": "code",
   "execution_count": 286,
   "metadata": {},
   "outputs": [
    {
     "data": {
      "image/png": "[encoded data removed]",
      "text/plain": [
       "<Figure size 360x360 with 1 Axes>"
      ]
     },
     "metadata": {
      "needs_background": "light"
     },
     "output_type": "display_data"
    },
    {
     "name": "stdout",
     "output_type": "stream",
     "text": [
      "old_centroids\n",
      "{1: [3, 3], 2: [8, 3]}\n",
      "   X  Y  distance_from_1  distance_from_2  NearbyCentroid color\n",
      "0  3  5                2                7               1     r\n",
      "1  3  4                1                6               1     r\n",
      "2  2  8                6               11               1     r\n",
      "3  2  3                1                6               1     r\n",
      "4  6  2                4                3               2     b\n",
      "5  6  4                4                3               2     b\n",
      "6  7  3                4                1               2     b\n",
      "7  7  4                5                2               2     b\n",
      "8  8  5                7                2               2     b\n",
      "9  7  6                7                4               2     b\n"
     ]
    },
    {
     "data": {
      "image/png": "[encoded data removed]",
      "text/plain": [
       "<Figure size 360x360 with 1 Axes>"
      ]
     },
     "metadata": {
      "needs_background": "light"
     },
     "output_type": "display_data"
    },
    {
     "name": "stdout",
     "output_type": "stream",
     "text": [
      "   X  Y  distance_from_1  distance_from_2  NearbyCentroid color\n",
      "0  3  5                2                7               1     r\n",
      "1  3  4                1                6               1     r\n",
      "2  2  8                6               11               1     r\n",
      "3  2  3                1                6               1     r\n",
      "   X  Y  distance_from_1  distance_from_2  NearbyCentroid color\n",
      "4  6  2                4                3               2     b\n",
      "5  6  4                4                3               2     b\n",
      "6  7  3                4                1               2     b\n",
      "7  7  4                5                2               2     b\n",
      "8  8  5                7                2               2     b\n",
      "9  7  6                7                4               2     b\n",
      "new centroid0\n",
      "{1: [2.5, 5.0], 2: [6.833333333333333, 4.0]}\n"
     ]
    },
    {
     "data": {
      "image/png": "[encoded data removed]",
      "text/plain": [
       "<Figure size 360x360 with 1 Axes>"
      ]
     },
     "metadata": {
      "needs_background": "light"
     },
     "output_type": "display_data"
    },
    {
     "name": "stdout",
     "output_type": "stream",
     "text": [
      "Match \n",
      "0\n",
      "old_centroids\n",
      "{1: [2.5, 5.0], 2: [6.833333333333333, 4.0]}\n",
      "   X  Y  distance_from_1  distance_from_2  NearbyCentroid color\n",
      "0  3  5              0.5         4.833333               1     r\n",
      "1  3  4              1.5         3.833333               1     r\n",
      "2  2  8              3.5         8.833333               1     r\n",
      "3  2  3              2.5         5.833333               1     r\n",
      "4  6  2              6.5         2.833333               2     b\n",
      "5  6  4              4.5         0.833333               2     b\n",
      "6  7  3              6.5         1.166667               2     b\n",
      "7  7  4              5.5         0.166667               2     b\n",
      "8  8  5              5.5         2.166667               2     b\n",
      "9  7  6              5.5         2.166667               2     b\n"
     ]
    },
    {
     "data": {
      "image/png": "[encoded data removed]",
      "text/plain": [
       "<Figure size 360x360 with 1 Axes>"
      ]
     },
     "metadata": {
      "needs_background": "light"
     },
     "output_type": "display_data"
    },
    {
     "name": "stdout",
     "output_type": "stream",
     "text": [
      "   X  Y  distance_from_1  distance_from_2  NearbyCentroid color\n",
      "0  3  5              0.5         4.833333               1     r\n",
      "1  3  4              1.5         3.833333               1     r\n",
      "2  2  8              3.5         8.833333               1     r\n",
      "3  2  3              2.5         5.833333               1     r\n",
      "   X  Y  distance_from_1  distance_from_2  NearbyCentroid color\n",
      "4  6  2              6.5         2.833333               2     b\n",
      "5  6  4              4.5         0.833333               2     b\n",
      "6  7  3              6.5         1.166667               2     b\n",
      "7  7  4              5.5         0.166667               2     b\n",
      "8  8  5              5.5         2.166667               2     b\n",
      "9  7  6              5.5         2.166667               2     b\n",
      "new centroid1\n",
      "{1: [2.5, 5.0], 2: [6.833333333333333, 4.0]}\n"
     ]
    },
    {
     "data": {
      "image/png": "[encoded data removed]",
      "text/plain": [
       "<Figure size 360x360 with 1 Axes>"
      ]
     },
     "metadata": {
      "needs_background": "light"
     },
     "output_type": "display_data"
    },
    {
     "name": "stdout",
     "output_type": "stream",
     "text": [
      "Match \n",
      "1\n"
     ]
    }
   ],
   "source": [
    "centroid3 = {\n",
    "    1:[3,3],\n",
    "    2:[8,3]\n",
    "    }\n",
    "KmeansAlgorithm(centroid3, df,'Manhattan')"
   ]
  },
  {
   "cell_type": "code",
   "execution_count": 287,
   "metadata": {},
   "outputs": [
    {
     "data": {
      "image/png": "[encoded data removed]",
      "text/plain": [
       "<Figure size 360x360 with 1 Axes>"
      ]
     },
     "metadata": {
      "needs_background": "light"
     },
     "output_type": "display_data"
    },
    {
     "name": "stdout",
     "output_type": "stream",
     "text": [
      "old_centroids\n",
      "{1: [3, 2], 2: [4, 8]}\n",
      "   X  Y  distance_from_1  distance_from_2  NearbyCentroid color\n",
      "0  3  5                3                4               1     r\n",
      "1  3  4                2                5               1     r\n",
      "2  2  8                7                2               2     b\n",
      "3  2  3                2                7               1     r\n",
      "4  6  2                3                8               1     r\n",
      "5  6  4                5                6               1     r\n",
      "6  7  3                5                8               1     r\n",
      "7  7  4                6                7               1     r\n",
      "8  8  5                8                7               2     b\n",
      "9  7  6                8                5               2     b\n"
     ]
    },
    {
     "data": {
      "image/png": "[encoded data removed]",
      "text/plain": [
       "<Figure size 360x360 with 1 Axes>"
      ]
     },
     "metadata": {
      "needs_background": "light"
     },
     "output_type": "display_data"
    },
    {
     "name": "stdout",
     "output_type": "stream",
     "text": [
      "   X  Y  distance_from_1  distance_from_2  NearbyCentroid color\n",
      "0  3  5                3                4               1     r\n",
      "1  3  4                2                5               1     r\n",
      "3  2  3                2                7               1     r\n",
      "4  6  2                3                8               1     r\n",
      "5  6  4                5                6               1     r\n",
      "6  7  3                5                8               1     r\n",
      "7  7  4                6                7               1     r\n",
      "   X  Y  distance_from_1  distance_from_2  NearbyCentroid color\n",
      "2  2  8                7                2               2     b\n",
      "8  8  5                8                7               2     b\n",
      "9  7  6                8                5               2     b\n",
      "new centroid0\n",
      "{1: [4.857142857142857, 3.5714285714285716], 2: [5.666666666666667, 6.333333333333333]}\n"
     ]
    },
    {
     "data": {
      "image/png": "[encoded data removed]",
      "text/plain": [
       "<Figure size 360x360 with 1 Axes>"
      ]
     },
     "metadata": {
      "needs_background": "light"
     },
     "output_type": "display_data"
    },
    {
     "name": "stdout",
     "output_type": "stream",
     "text": [
      "Match \n",
      "0\n",
      "old_centroids\n",
      "{1: [4.857142857142857, 3.5714285714285716], 2: [5.666666666666667, 6.333333333333333]}\n",
      "   X  Y  distance_from_1  distance_from_2  NearbyCentroid color\n",
      "0  3  5         3.285714         4.000000               1     r\n",
      "1  3  4         2.285714         5.000000               1     r\n",
      "2  2  8         7.285714         5.333333               2     b\n",
      "3  2  3         3.428571         7.000000               1     r\n",
      "4  6  2         2.714286         4.666667               1     r\n",
      "5  6  4         1.571429         2.666667               1     r\n",
      "6  7  3         2.714286         4.666667               1     r\n",
      "7  7  4         2.571429         3.666667               1     r\n",
      "8  8  5         4.571429         3.666667               2     b\n",
      "9  7  6         4.571429         1.666667               2     b\n"
     ]
    },
    {
     "data": {
      "image/png": "[encoded data removed]",
      "text/plain": [
       "<Figure size 360x360 with 1 Axes>"
      ]
     },
     "metadata": {
      "needs_background": "light"
     },
     "output_type": "display_data"
    },
    {
     "name": "stdout",
     "output_type": "stream",
     "text": [
      "   X  Y  distance_from_1  distance_from_2  NearbyCentroid color\n",
      "0  3  5         3.285714         4.000000               1     r\n",
      "1  3  4         2.285714         5.000000               1     r\n",
      "3  2  3         3.428571         7.000000               1     r\n",
      "4  6  2         2.714286         4.666667               1     r\n",
      "5  6  4         1.571429         2.666667               1     r\n",
      "6  7  3         2.714286         4.666667               1     r\n",
      "7  7  4         2.571429         3.666667               1     r\n",
      "   X  Y  distance_from_1  distance_from_2  NearbyCentroid color\n",
      "2  2  8         7.285714         5.333333               2     b\n",
      "8  8  5         4.571429         3.666667               2     b\n",
      "9  7  6         4.571429         1.666667               2     b\n",
      "new centroid1\n",
      "{1: [4.857142857142857, 3.5714285714285716], 2: [5.666666666666667, 6.333333333333333]}\n"
     ]
    },
    {
     "data": {
      "image/png": "[encoded data removed]",
      "text/plain": [
       "<Figure size 360x360 with 1 Axes>"
      ]
     },
     "metadata": {
      "needs_background": "light"
     },
     "output_type": "display_data"
    },
    {
     "name": "stdout",
     "output_type": "stream",
     "text": [
      "Match \n",
      "1\n"
     ]
    }
   ],
   "source": [
    "centroid3 = {\n",
    "    1:[3,2],\n",
    "    2:[4,8]\n",
    "    }\n",
    "KmeansAlgorithm(centroid3, df,'Manhattan')"
   ]
  },
  {
   "cell_type": "code",
   "execution_count": 288,
   "metadata": {},
   "outputs": [],
   "source": [
    "x = np.array([[3,5],[3,4],[2,8],[2,3],[6,2],[6,4],[7,3],[7,4],[8,5],[7,6]])"
   ]
  },
  {
   "cell_type": "code",
   "execution_count": 289,
   "metadata": {},
   "outputs": [
    {
     "name": "stdout",
     "output_type": "stream",
     "text": [
      "[[2.5        5.        ]\n",
      " [6.83333333 4.        ]]\n",
      "[0 0 0 0 1 1 1 1 1 1]\n"
     ]
    },
    {
     "data": {
      "image/png": "[encoded data removed]",
      "text/plain": [
       "<Figure size 432x288 with 1 Axes>"
      ]
     },
     "metadata": {
      "needs_background": "light"
     },
     "output_type": "display_data"
    }
   ],
   "source": [
    "kmeans = KMeans(init=\"random\",n_clusters =2 ,n_init=10,max_iter=300,random_state=42)\n",
    "kmeans.fit(x)\n",
    "print(kmeans.cluster_centers_)\n",
    "print(kmeans.labels_)\n",
    "plt.scatter(x[:,0], x[:,1], c = kmeans.labels_, cmap = 'rainbow', edgecolor = 'k')\n",
    "plt.scatter(kmeans.cluster_centers_[:,0],kmeans.cluster_centers_[:,1], color = 'black')\n",
    "plt.show()"
   ]
  },
  {
   "cell_type": "code",
   "execution_count": 290,
   "metadata": {},
   "outputs": [],
   "source": [
    "x = [4.6, 4.7, 4.9, 5.0, 5.9, 6.0, 6.2, 6.7]\n",
    "y = [2.9, 3.2, 3.1, 3.0, 3.2, 3.0, 2.8, 3.1]\n",
    "clustergroup = [0,0,0,0,1,1,1,1]\n",
    "color = [\"r\",\"r\",\"r\",\"r\",\"b\",\"b\",\"b\",\"b\"]\n",
    "dictn = {\"x\" : x, \"y\" : y, \"label\": clustergroup, \"color\":color}\n",
    "dftask3 = pd.DataFrame(dictn)"
   ]
  },
  {
   "cell_type": "code",
   "execution_count": 291,
   "metadata": {},
   "outputs": [
    {
     "data": {
      "text/html": [
       "<div>\n",
       "<style scoped>\n",
       "    .dataframe tbody tr th:only-of-type {\n",
       "        vertical-align: middle;\n",
       "    }\n",
       "\n",
       "    .dataframe tbody tr th {\n",
       "        vertical-align: top;\n",
       "    }\n",
       "\n",
       "    .dataframe thead th {\n",
       "        text-align: right;\n",
       "    }\n",
       "</style>\n",
       "<table border=\"1\" class=\"dataframe\">\n",
       "  <thead>\n",
       "    <tr style=\"text-align: right;\">\n",
       "      <th></th>\n",
       "      <th>x</th>\n",
       "      <th>y</th>\n",
       "      <th>label</th>\n",
       "      <th>color</th>\n",
       "    </tr>\n",
       "  </thead>\n",
       "  <tbody>\n",
       "    <tr>\n",
       "      <th>0</th>\n",
       "      <td>4.6</td>\n",
       "      <td>2.9</td>\n",
       "      <td>0</td>\n",
       "      <td>r</td>\n",
       "    </tr>\n",
       "    <tr>\n",
       "      <th>1</th>\n",
       "      <td>4.7</td>\n",
       "      <td>3.2</td>\n",
       "      <td>0</td>\n",
       "      <td>r</td>\n",
       "    </tr>\n",
       "    <tr>\n",
       "      <th>2</th>\n",
       "      <td>4.9</td>\n",
       "      <td>3.1</td>\n",
       "      <td>0</td>\n",
       "      <td>r</td>\n",
       "    </tr>\n",
       "    <tr>\n",
       "      <th>3</th>\n",
       "      <td>5.0</td>\n",
       "      <td>3.0</td>\n",
       "      <td>0</td>\n",
       "      <td>r</td>\n",
       "    </tr>\n",
       "    <tr>\n",
       "      <th>4</th>\n",
       "      <td>5.9</td>\n",
       "      <td>3.2</td>\n",
       "      <td>1</td>\n",
       "      <td>b</td>\n",
       "    </tr>\n",
       "    <tr>\n",
       "      <th>5</th>\n",
       "      <td>6.0</td>\n",
       "      <td>3.0</td>\n",
       "      <td>1</td>\n",
       "      <td>b</td>\n",
       "    </tr>\n",
       "    <tr>\n",
       "      <th>6</th>\n",
       "      <td>6.2</td>\n",
       "      <td>2.8</td>\n",
       "      <td>1</td>\n",
       "      <td>b</td>\n",
       "    </tr>\n",
       "    <tr>\n",
       "      <th>7</th>\n",
       "      <td>6.7</td>\n",
       "      <td>3.1</td>\n",
       "      <td>1</td>\n",
       "      <td>b</td>\n",
       "    </tr>\n",
       "  </tbody>\n",
       "</table>\n",
       "</div>"
      ],
      "text/plain": [
       "     x    y  label color\n",
       "0  4.6  2.9      0     r\n",
       "1  4.7  3.2      0     r\n",
       "2  4.9  3.1      0     r\n",
       "3  5.0  3.0      0     r\n",
       "4  5.9  3.2      1     b\n",
       "5  6.0  3.0      1     b\n",
       "6  6.2  2.8      1     b\n",
       "7  6.7  3.1      1     b"
      ]
     },
     "execution_count": 291,
     "metadata": {},
     "output_type": "execute_result"
    }
   ],
   "source": [
    "dftask3"
   ]
  },
  {
   "cell_type": "code",
   "execution_count": 292,
   "metadata": {},
   "outputs": [
    {
     "data": {
      "image/png": "[encoded data removed]",
      "text/plain": [
       "<Figure size 360x360 with 1 Axes>"
      ]
     },
     "metadata": {
      "needs_background": "light"
     },
     "output_type": "display_data"
    }
   ],
   "source": [
    "fig = plt.figure(figsize=(5, 5))\n",
    "plt.scatter(dftask3['x'], dftask3['y'], color=dftask3['color'], edgecolor = 'k' )\n",
    "plt.xlim(4.2, 7)\n",
    "plt.ylim(2.5, 3.5)\n",
    "plt.show() "
   ]
  },
  {
   "cell_type": "code",
   "execution_count": 293,
   "metadata": {},
   "outputs": [],
   "source": [
    "datapoints = np.array([(4.7,3.2),(4.6,2.9),(4.9,3.1),(5.0,3.0),(5.9,3.2),(6.0,3.0),(6.2,2.8),(6.7,3.1)])"
   ]
  },
  {
   "cell_type": "code",
   "execution_count": 294,
   "metadata": {},
   "outputs": [],
   "source": [
    "dist = np.sqrt((dftask3['x'][0] - dftask3['x'][1]) ** 2\n",
    "                    + (dftask3['y'][0] - dftask3['y'][1]) ** 2\n",
    "                )"
   ]
  },
  {
   "cell_type": "code",
   "execution_count": 295,
   "metadata": {},
   "outputs": [
    {
     "data": {
      "text/plain": [
       "0.3162277660168384"
      ]
     },
     "execution_count": 295,
     "metadata": {},
     "output_type": "execute_result"
    }
   ],
   "source": [
    "dist"
   ]
  },
  {
   "cell_type": "code",
   "execution_count": 296,
   "metadata": {},
   "outputs": [
    {
     "name": "stdout",
     "output_type": "stream",
     "text": [
      "points:\n",
      "(4.6, 2.9)\n",
      "(4.7, 3.2)\n",
      "Distance = 0.3162277660168384\n",
      "points:\n",
      "(4.6, 2.9)\n",
      "(4.9, 3.1)\n",
      "Distance = 0.3605551275463996\n",
      "points:\n",
      "(4.6, 2.9)\n",
      "(5.0, 3.0)\n",
      "Distance = 0.4123105625617664\n",
      "points:\n",
      "(4.6, 2.9)\n",
      "(5.9, 3.2)\n",
      "Distance = 1.3341664064126342\n",
      "points:\n",
      "(4.6, 2.9)\n",
      "(6.0, 3.0)\n",
      "Distance = 1.4035668847618203\n",
      "points:\n",
      "(4.6, 2.9)\n",
      "(6.2, 2.8)\n",
      "Distance = 1.6031219541881403\n",
      "points:\n",
      "(4.6, 2.9)\n",
      "(6.7, 3.1)\n",
      "Distance = 2.109502310972899\n",
      "points:\n",
      "(4.7, 3.2)\n",
      "(4.9, 3.1)\n",
      "Distance = 0.22360679774997916\n",
      "points:\n",
      "(4.7, 3.2)\n",
      "(5.0, 3.0)\n",
      "Distance = 0.3605551275463989\n",
      "points:\n",
      "(4.7, 3.2)\n",
      "(5.9, 3.2)\n",
      "Distance = 1.2000000000000002\n",
      "points:\n",
      "(4.7, 3.2)\n",
      "(6.0, 3.0)\n",
      "Distance = 1.3152946437965904\n",
      "points:\n",
      "(4.7, 3.2)\n",
      "(6.2, 2.8)\n",
      "Distance = 1.5524174696260025\n",
      "points:\n",
      "(4.7, 3.2)\n",
      "(6.7, 3.1)\n",
      "Distance = 2.0024984394500787\n",
      "points:\n",
      "(4.9, 3.1)\n",
      "(5.0, 3.0)\n",
      "Distance = 0.1414213562373093\n",
      "points:\n",
      "(4.9, 3.1)\n",
      "(5.9, 3.2)\n",
      "Distance = 1.004987562112089\n",
      "points:\n",
      "(4.9, 3.1)\n",
      "(6.0, 3.0)\n",
      "Distance = 1.1045361017187258\n",
      "points:\n",
      "(4.9, 3.1)\n",
      "(6.2, 2.8)\n",
      "Distance = 1.3341664064126333\n",
      "points:\n",
      "(4.9, 3.1)\n",
      "(6.7, 3.1)\n",
      "Distance = 1.7999999999999998\n",
      "points:\n",
      "(5.0, 3.0)\n",
      "(5.9, 3.2)\n",
      "Distance = 0.9219544457292891\n",
      "points:\n",
      "(5.0, 3.0)\n",
      "(6.0, 3.0)\n",
      "Distance = 1.0\n",
      "points:\n",
      "(5.0, 3.0)\n",
      "(6.2, 2.8)\n",
      "Distance = 1.216552506059644\n",
      "points:\n",
      "(5.0, 3.0)\n",
      "(6.7, 3.1)\n",
      "Distance = 1.7029386365926404\n",
      "points:\n",
      "(5.9, 3.2)\n",
      "(6.0, 3.0)\n",
      "Distance = 0.22360679774997896\n",
      "points:\n",
      "(5.9, 3.2)\n",
      "(6.2, 2.8)\n",
      "Distance = 0.5000000000000001\n",
      "points:\n",
      "(5.9, 3.2)\n",
      "(6.7, 3.1)\n",
      "Distance = 0.8062257748298548\n",
      "points:\n",
      "(6.0, 3.0)\n",
      "(6.2, 2.8)\n",
      "Distance = 0.2828427124746193\n",
      "points:\n",
      "(6.0, 3.0)\n",
      "(6.7, 3.1)\n",
      "Distance = 0.7071067811865478\n",
      "points:\n",
      "(6.2, 2.8)\n",
      "(6.7, 3.1)\n",
      "Distance = 0.5830951894845302\n",
      "Minimum:\n",
      "[[4.9 3.1]\n",
      " [5.  3. ]]\n",
      "Distance = 0.1414213562373093\n",
      "maximum:\n",
      "[[4.6 2.9]\n",
      " [6.7 3.1]]\n",
      "Distance = 2.109502310972899\n",
      "average distance between all pairs : 0.9829734914720506\n"
     ]
    }
   ],
   "source": [
    "mindistance = 10;\n",
    "maxdistance = 0;\n",
    "min_points = [];\n",
    "max_points = [];\n",
    "avgdistance = 0;\n",
    "totalpair = 0;\n",
    "for i in range(0, len(datapoints)):\n",
    "    for j in range(i+1, len(datapoints)):\n",
    "        dist = np.sqrt((dftask3['x'][i] - dftask3['x'][j]) ** 2\n",
    "                    + (dftask3['y'][i] - dftask3['y'][j]) ** 2\n",
    "                )\n",
    "        avgdistance = avgdistance + dist\n",
    "        totalpair = totalpair + 1\n",
    "        if(mindistance > dist):\n",
    "            mindistance = dist\n",
    "            min_points = np.array([(dftask3['x'][i],dftask3['y'][i]),(dftask3['x'][j],dftask3['y'][j])])\n",
    "        if(maxdistance < dist):\n",
    "            maxdistance = dist\n",
    "            max_points = np.array([(dftask3['x'][i],dftask3['y'][i]),(dftask3['x'][j],dftask3['y'][j])])\n",
    "        print(\"points:\")\n",
    "        print((dftask3['x'][i],dftask3['y'][i]))\n",
    "        print((dftask3['x'][j],dftask3['y'][j]))\n",
    "        print(\"Distance = \"+ str(dist))\n",
    "print(\"Minimum:\")\n",
    "print(min_points)\n",
    "print(\"Distance = \"+ str(mindistance))\n",
    "print(\"maximum:\")\n",
    "print(max_points)\n",
    "print(\"Distance = \"+ str(maxdistance))\n",
    "print(\"average distance between all pairs : \" + str(avgdistance/totalpair))"
   ]
  },
  {
   "cell_type": "code",
   "execution_count": 297,
   "metadata": {},
   "outputs": [
    {
     "data": {
      "text/plain": [
       "4"
      ]
     },
     "execution_count": 297,
     "metadata": {},
     "output_type": "execute_result"
    }
   ],
   "source": [
    "len(dftask3[dftask3['label'] == 1])"
   ]
  },
  {
   "cell_type": "code",
   "execution_count": 298,
   "metadata": {},
   "outputs": [],
   "source": [
    "for k in range(0,2):\n",
    "    dftask3temp = dftask3[dftask3['label'] == k]\n",
    "    averagedist = 0\n",
    "    for i in range(0, len(dftask3temp)):\n",
    "        for j in range(i+1, len(dftask3temp)):\n",
    "            dist = np.sqrt((dftask3['x'][i] - dftask3['x'][j]) ** 2\n",
    "                    + (dftask3['y'][i] - dftask3['y'][j]) ** 2\n",
    "                    )\n",
    "        "
   ]
  },
  {
   "cell_type": "code",
   "execution_count": null,
   "metadata": {},
   "outputs": [],
   "source": []
  }
 ],
 "metadata": {
  "kernelspec": {
   "display_name": "Python 3",
   "language": "python",
   "name": "python3"
  },
  "language_info": {
   "codemirror_mode": {
    "name": "ipython",
    "version": 3
   },
   "file_extension": ".py",
   "mimetype": "text/x-python",
   "name": "python",
   "nbconvert_exporter": "python",
   "pygments_lexer": "ipython3",
   "version": "3.8.5"
  }
 },
 "nbformat": 4,
 "nbformat_minor": 4
}
